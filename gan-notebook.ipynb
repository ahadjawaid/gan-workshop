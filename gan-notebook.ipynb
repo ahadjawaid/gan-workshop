{
 "cells": [
  {
   "attachments": {},
   "cell_type": "markdown",
   "metadata": {},
   "source": [
    "## Generative Adversarial Networks (GAN)\n",
    "- A GAN are made of two distinct models, a generator and a discriminator. \n",
    "    #### Generator:\n",
    "    - The job of the generator is to spawn ‘fake’ images that look like the training images\n",
    "\n",
    "    #### Discriminator:\n",
    "    - The job of the discriminator is to look at an image and output whether or not it is a real training image or a fake image from the generator\n",
    "\n",
    "![](assets/GAN_Diagram.png \"Generative Adversarial Networks\")\n",
    "\n",
    "\n",
    "### Deep Convultion Genration Adversarial Network (DCGAN):\n",
    "- A DCGAN is a direct extension of the GAN described above, except that it explicitly uses convolutional and convolutional-transpose layers in the discriminator and generator, respectively\n",
    "\n",
    "![](assets/DCGAN_Diagram.png \"Generative Adversarial Networks\")"
   ]
  },
  {
   "cell_type": "code",
   "execution_count": 3,
   "metadata": {},
   "outputs": [
    {
     "data": {
      "text/plain": [
       "<torch._C.Generator at 0x7fc1087cb850>"
      ]
     },
     "execution_count": 3,
     "metadata": {},
     "output_type": "execute_result"
    }
   ],
   "source": [
    "import torch\n",
    "import torch.nn as nn\n",
    "import numpy as np\n",
    "import matplotlib.pyplot as plt\n",
    "\n",
    "# Set random seed for reproducibility\n",
    "manualSeed = 49\n",
    "torch.manual_seed(manualSeed)\n"
   ]
  }
 ],
 "metadata": {
  "kernelspec": {
   "display_name": "torchenv",
   "language": "python",
   "name": "python3"
  },
  "language_info": {
   "codemirror_mode": {
    "name": "ipython",
    "version": 3
   },
   "file_extension": ".py",
   "mimetype": "text/x-python",
   "name": "python",
   "nbconvert_exporter": "python",
   "pygments_lexer": "ipython3",
   "version": "3.10.6"
  },
  "orig_nbformat": 4,
  "vscode": {
   "interpreter": {
    "hash": "ebeb6e6923afe8f7249e0784fa3ee00f3af0c0d3bfc71667f0af69f9878e1416"
   }
  }
 },
 "nbformat": 4,
 "nbformat_minor": 2
}

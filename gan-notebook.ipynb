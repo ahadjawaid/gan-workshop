{
 "cells": [
  {
   "attachments": {},
   "cell_type": "markdown",
   "metadata": {},
   "source": [
    "## Generative Adversarial Networks (GAN)\n",
    "- A GAN are made of two distinct models, a generator and a discriminator. \n",
    "    #### Generator:\n",
    "    - The job of the generator is to spawn ‘fake’ images that look like the training images\n",
    "\n",
    "    #### Discriminator:\n",
    "    - The job of the discriminator is to look at an image and output whether or not it is a real training image or a fake image from the generator\n",
    "\n",
    "![](assets/GAN_Diagram.png \"Generative Adversarial Networks\")\n",
    "\n",
    "\n",
    "### Deep Convultion Genration Adversarial Network (DCGAN):\n",
    "- A DCGAN is a direct extension of the GAN described above, except that it explicitly uses convolutional and convolutional-transpose layers in the discriminator and generator, respectively\n",
    "\n",
    "![](assets/DCGAN_Diagram.png \"Generative Adversarial Networks\")"
   ]
  },
  {
   "cell_type": "code",
   "execution_count": 1,
   "metadata": {},
   "outputs": [
    {
     "data": {
      "text/plain": [
       "<torch._C.Generator at 0x7fadf0ab7870>"
      ]
     },
     "execution_count": 1,
     "metadata": {},
     "output_type": "execute_result"
    }
   ],
   "source": [
    "import torch\n",
    "import torch.nn as nn\n",
    "\n",
    "# Set random seed for reproducibility\n",
    "manualSeed = 49\n",
    "torch.manual_seed(manualSeed)\n"
   ]
  },
  {
   "cell_type": "code",
   "execution_count": 2,
   "metadata": {},
   "outputs": [],
   "source": [
    "dataset_directory = \"dataset\"\n",
    "num_worker_threads = 2\n",
    "batch_size = 128\n",
    "image_size = 64\n",
    "num_color_channels = 3\n",
    "length_latent_vector = 100\n",
    "num_generator_features= 64\n",
    "num_discriminator_features = 64\n",
    "num_epochs = 5\n",
    "learning_rate = 0.0002\n",
    "decay_rate = 0.5\n",
    "\n",
    "device = torch.device(\"cuda:0\" if (torch.cuda.is_available()) else \"cpu\")"
   ]
  },
  {
   "cell_type": "code",
   "execution_count": 3,
   "metadata": {},
   "outputs": [],
   "source": [
    "import torchvision.datasets as datasets\n",
    "import torchvision.transforms as transforms\n",
    "from torch.utils.data import DataLoader\n",
    "\n",
    "dataset = datasets.ImageFolder(\n",
    "    root=dataset_directory,\n",
    "    transform=transforms.Compose([\n",
    "        transforms.Resize(image_size),\n",
    "        transforms.CenterCrop(image_size),\n",
    "        transforms.ToTensor(),\n",
    "        transforms.Normalize((0.5, 0.5, 0.5), (0.5, 0.5, 0.5))\n",
    "    ]),\n",
    ")\n",
    "\n",
    "dataloader = DataLoader(\n",
    "    dataset=dataset,\n",
    "    batch_size=batch_size,\n",
    "    shuffle=True,\n",
    "    num_workers=num_worker_threads\n",
    ")"
   ]
  },
  {
   "cell_type": "code",
   "execution_count": 4,
   "metadata": {},
   "outputs": [],
   "source": [
    "def custom_weights_init(m):\n",
    "    classname = m.__class__.__name__\n",
    "    if classname.find('Conv') != -1:\n",
    "        nn.init.normal_(m.weight.data, 0.0, 0.02)\n",
    "    elif classname.find('BatchNorm') != -1:\n",
    "        nn.init.normal_(m.weight.data, 1.0, 0.02)\n",
    "        nn.init.constant_(m.bias.data, 0)"
   ]
  },
  {
   "cell_type": "code",
   "execution_count": 32,
   "metadata": {},
   "outputs": [],
   "source": [
    "class Generator(nn.Module):\n",
    "    def __init__(self):\n",
    "        super(Generator, self).__init__()\n",
    "        self.layers = nn.Sequential(\n",
    "            nn.ConvTranspose2d(\n",
    "                in_channels=length_latent_vector,\n",
    "                out_channels=num_generator_features * 8,\n",
    "                kernel_size= 4,\n",
    "                stride= 1,\n",
    "                padding= 0,\n",
    "                bias=False,\n",
    "            ),\n",
    "            nn.BatchNorm2d(num_features=num_generator_features * 8),\n",
    "            nn.ReLU(inplace=True),\n",
    "\n",
    "            nn.ConvTranspose2d(num_generator_features * 8, num_generator_features * 4, 4, 2, 1, bias=False),\n",
    "            nn.BatchNorm2d(num_generator_features * 4),\n",
    "            nn.ReLU(True),\n",
    "\n",
    "            nn.ConvTranspose2d(num_generator_features * 4, num_generator_features * 2, 4, 2, 1, bias=False),\n",
    "            nn.BatchNorm2d(num_generator_features * 2),\n",
    "            nn.ReLU(True),\n",
    "\n",
    "            nn.ConvTranspose2d(num_generator_features * 2, num_generator_features, 4, 2, 1, bias=False),\n",
    "            nn.BatchNorm2d(num_generator_features),\n",
    "            nn.ReLU(True),\n",
    "            \n",
    "            nn.ConvTranspose2d(num_generator_features, num_color_channels, 4, 2, 1, bias=False),\n",
    "            nn.Tanh()\n",
    "        )\n",
    "\n",
    "    def forward(self, input):\n",
    "        return self.layers(input)"
   ]
  },
  {
   "cell_type": "code",
   "execution_count": 33,
   "metadata": {},
   "outputs": [
    {
     "data": {
      "text/plain": [
       "Generator(\n",
       "  (layers): Sequential(\n",
       "    (0): ConvTranspose2d(100, 512, kernel_size=(4, 4), stride=(1, 1), bias=False)\n",
       "    (1): BatchNorm2d(512, eps=1e-05, momentum=0.1, affine=True, track_running_stats=True)\n",
       "    (2): ReLU(inplace=True)\n",
       "    (3): ConvTranspose2d(512, 256, kernel_size=(4, 4), stride=(2, 2), padding=(1, 1), bias=False)\n",
       "    (4): BatchNorm2d(256, eps=1e-05, momentum=0.1, affine=True, track_running_stats=True)\n",
       "    (5): ReLU(inplace=True)\n",
       "    (6): ConvTranspose2d(256, 128, kernel_size=(4, 4), stride=(2, 2), padding=(1, 1), bias=False)\n",
       "    (7): BatchNorm2d(128, eps=1e-05, momentum=0.1, affine=True, track_running_stats=True)\n",
       "    (8): ReLU(inplace=True)\n",
       "    (9): ConvTranspose2d(128, 64, kernel_size=(4, 4), stride=(2, 2), padding=(1, 1), bias=False)\n",
       "    (10): BatchNorm2d(64, eps=1e-05, momentum=0.1, affine=True, track_running_stats=True)\n",
       "    (11): ReLU(inplace=True)\n",
       "    (12): ConvTranspose2d(64, 3, kernel_size=(4, 4), stride=(2, 2), padding=(1, 1), bias=False)\n",
       "    (13): Tanh()\n",
       "  )\n",
       ")"
      ]
     },
     "execution_count": 33,
     "metadata": {},
     "output_type": "execute_result"
    }
   ],
   "source": [
    "generator = Generator().to(device)\n",
    "generator.apply(custom_weights_init)"
   ]
  },
  {
   "cell_type": "code",
   "execution_count": 34,
   "metadata": {},
   "outputs": [],
   "source": [
    "class Discriminator(nn.Module):\n",
    "    def __init__(self):\n",
    "        super(Discriminator, self).__init__()\n",
    "        self.layers = nn.Sequential(\n",
    "            nn.Conv2d(\n",
    "                in_channels=num_color_channels,\n",
    "                out_channels=num_discriminator_features,\n",
    "                kernel_size= 4,\n",
    "                stride= 2,\n",
    "                padding= 1,\n",
    "                bias=False,\n",
    "            ),\n",
    "            nn.LeakyReLU(negative_slope=0.2, inplace=True),\n",
    "\n",
    "            nn.Conv2d(num_discriminator_features, num_discriminator_features*2, 4, 2, 1, bias=False),\n",
    "            nn.BatchNorm2d(num_discriminator_features*2),\n",
    "            nn.LeakyReLU(0.2, True),\n",
    "\n",
    "            nn.Conv2d(num_discriminator_features*2, num_discriminator_features*4, 4, 2, 1, bias=False),\n",
    "            nn.BatchNorm2d(num_discriminator_features*4),\n",
    "            nn.LeakyReLU(0.2, True),\n",
    "\n",
    "            nn.Conv2d(num_discriminator_features*4, num_discriminator_features*8, 4, 2, 1, bias=False),\n",
    "            nn.BatchNorm2d(num_discriminator_features*8),\n",
    "            nn.LeakyReLU(0.2, True),\n",
    "\n",
    "            nn.Conv2d(num_discriminator_features*8, 1, 4, 1, 0, bias=False),\n",
    "            nn.Sigmoid()\n",
    "        )\n",
    "\n",
    "    def forward(self, input):\n",
    "        return self.layers(input)"
   ]
  },
  {
   "cell_type": "code",
   "execution_count": 35,
   "metadata": {},
   "outputs": [
    {
     "data": {
      "text/plain": [
       "Discriminator(\n",
       "  (layers): Sequential(\n",
       "    (0): Conv2d(3, 64, kernel_size=(4, 4), stride=(2, 2), padding=(1, 1), bias=False)\n",
       "    (1): LeakyReLU(negative_slope=0.2, inplace=True)\n",
       "    (2): Conv2d(64, 128, kernel_size=(4, 4), stride=(2, 2), padding=(1, 1), bias=False)\n",
       "    (3): BatchNorm2d(128, eps=1e-05, momentum=0.1, affine=True, track_running_stats=True)\n",
       "    (4): LeakyReLU(negative_slope=0.2, inplace=True)\n",
       "    (5): Conv2d(128, 256, kernel_size=(4, 4), stride=(2, 2), padding=(1, 1), bias=False)\n",
       "    (6): BatchNorm2d(256, eps=1e-05, momentum=0.1, affine=True, track_running_stats=True)\n",
       "    (7): LeakyReLU(negative_slope=0.2, inplace=True)\n",
       "    (8): Conv2d(256, 512, kernel_size=(4, 4), stride=(2, 2), padding=(1, 1), bias=False)\n",
       "    (9): BatchNorm2d(512, eps=1e-05, momentum=0.1, affine=True, track_running_stats=True)\n",
       "    (10): LeakyReLU(negative_slope=0.2, inplace=True)\n",
       "    (11): Conv2d(512, 1, kernel_size=(4, 4), stride=(1, 1), bias=False)\n",
       "    (12): Sigmoid()\n",
       "  )\n",
       ")"
      ]
     },
     "execution_count": 35,
     "metadata": {},
     "output_type": "execute_result"
    }
   ],
   "source": [
    "discriminator = Discriminator()\n",
    "discriminator.apply(custom_weights_init)"
   ]
  },
  {
   "cell_type": "code",
   "execution_count": 40,
   "metadata": {},
   "outputs": [],
   "source": [
    "import torch.optim as optim\n",
    "\n",
    "criterion = nn.BCELoss()\n",
    "\n",
    "fixed_latent_vector = torch.randn(64, length_latent_vector, 1, 1, device=device)\n",
    "\n",
    "real_label, fake_label = 1, 0\n",
    "\n",
    "generator_optimizer = optim.Adam(\n",
    "    params=generator.parameters(),\n",
    "    lr=learning_rate,\n",
    "    betas=(decay_rate, 0.999)\n",
    ")\n",
    "discriminator_optimizer = optim.Adam(discriminator.parameters(), learning_rate, (decay_rate, 0.999))"
   ]
  },
  {
   "cell_type": "code",
   "execution_count": 41,
   "metadata": {},
   "outputs": [
    {
     "name": "stdout",
     "output_type": "stream",
     "text": [
      "Starting Training Loop...\n",
      "[0/5][0/1583]\tLoss_D: 0.6365\tLoss_G: 8.0958\n",
      "[0/5][50/1583]\tLoss_D: 0.2609\tLoss_G: 19.8820\n",
      "[0/5][100/1583]\tLoss_D: 0.5755\tLoss_G: 7.8175\n",
      "[0/5][150/1583]\tLoss_D: 0.7333\tLoss_G: 5.1656\n",
      "[0/5][200/1583]\tLoss_D: 0.6623\tLoss_G: 6.1043\n",
      "[0/5][250/1583]\tLoss_D: 0.3223\tLoss_G: 2.3968\n",
      "[0/5][300/1583]\tLoss_D: 0.5939\tLoss_G: 2.5630\n",
      "[0/5][350/1583]\tLoss_D: 0.2976\tLoss_G: 4.8876\n",
      "[0/5][400/1583]\tLoss_D: 0.4814\tLoss_G: 3.5995\n",
      "[0/5][450/1583]\tLoss_D: 0.4013\tLoss_G: 3.8118\n",
      "[0/5][500/1583]\tLoss_D: 0.4800\tLoss_G: 4.4832\n",
      "[0/5][550/1583]\tLoss_D: 1.1103\tLoss_G: 8.0358\n",
      "[0/5][600/1583]\tLoss_D: 0.9404\tLoss_G: 6.5775\n",
      "[0/5][650/1583]\tLoss_D: 1.6848\tLoss_G: 2.1256\n",
      "[0/5][700/1583]\tLoss_D: 0.9087\tLoss_G: 5.4713\n",
      "[0/5][750/1583]\tLoss_D: 0.5027\tLoss_G: 3.6556\n",
      "[0/5][800/1583]\tLoss_D: 0.6511\tLoss_G: 6.6689\n",
      "[0/5][850/1583]\tLoss_D: 0.3283\tLoss_G: 5.5564\n",
      "[0/5][900/1583]\tLoss_D: 0.2936\tLoss_G: 3.1724\n",
      "[0/5][950/1583]\tLoss_D: 0.3441\tLoss_G: 4.5281\n"
     ]
    }
   ],
   "source": [
    "import torchvision.utils as utils\n",
    "\n",
    "img_list = []\n",
    "generator_losses = []\n",
    "discriminator_losses = []\n",
    "iters = 0\n",
    "\n",
    "print(\"Starting Training Loop...\")\n",
    "for epoch in range(num_epochs):\n",
    "    for i, data in enumerate(dataloader, start=0):\n",
    "        # Train discriminator\n",
    "        discriminator.zero_grad()\n",
    "        \n",
    "        real_data = data[0].to(device)\n",
    "        batch_size = real_data.size(0)\n",
    "        labels = torch.full(size=(batch_size,), fill_value=real_label, dtype=torch.float, device=device)\n",
    "\n",
    "        output = discriminator(real_data).view(-1)\n",
    "        discriminator_real_error = criterion(output, labels)\n",
    "        discriminator_real_error.backward()\n",
    "\n",
    "        batch_latent_vectors = torch.randn(batch_size, length_latent_vector, 1, 1, device=device)\n",
    "        fake_data = generator(batch_latent_vectors)\n",
    "        labels.fill_(fake_label)\n",
    "\n",
    "        output = discriminator(fake_data.detach()).view(-1)\n",
    "        discriminator_fake_error = criterion(output, labels)\n",
    "        discriminator_fake_error.backward()\n",
    "\n",
    "        discriminator_error = discriminator_real_error + discriminator_fake_error\n",
    "        discriminator_optimizer.step()\n",
    "\n",
    "        # Train Generator\n",
    "        generator.zero_grad()\n",
    "        labels.fill_(real_label)\n",
    "\n",
    "        output = discriminator(fake_data).view(-1)\n",
    "        generator_error = criterion(output, labels)\n",
    "        generator_error.backward()\n",
    "\n",
    "        generator_optimizer.step()\n",
    "\n",
    "        generator_losses.append(generator_error.item())\n",
    "        discriminator_losses.append(discriminator_error.item())\n",
    "\n",
    "\n",
    "        if i % 50 == 0:\n",
    "            print('[%d/%d][%d/%d]\\tLoss_Discriminator: %.4f\\tLoss_Generator: %.4f'\n",
    "                  % (epoch, num_epochs, i, len(dataloader),\n",
    "                     discriminator_error.item(), generator_error.item()))\n",
    "        \n",
    "        if (iters % 500 == 0) or ((epoch == num_epochs-1) and (i == len(dataloader)-1)):\n",
    "            with torch.no_grad():\n",
    "                fake = generator(fixed_latent_vector).detach().cpu()\n",
    "            img_list.append(utils.make_grid(fake, padding=2, normalize=True))\n",
    "\n",
    "        iters += 1\n",
    "\n"
   ]
  },
  {
   "cell_type": "code",
   "execution_count": null,
   "metadata": {},
   "outputs": [],
   "source": []
  },
  {
   "cell_type": "code",
   "execution_count": null,
   "metadata": {},
   "outputs": [],
   "source": []
  }
 ],
 "metadata": {
  "kernelspec": {
   "display_name": "torchenv",
   "language": "python",
   "name": "python3"
  },
  "language_info": {
   "codemirror_mode": {
    "name": "ipython",
    "version": 3
   },
   "file_extension": ".py",
   "mimetype": "text/x-python",
   "name": "python",
   "nbconvert_exporter": "python",
   "pygments_lexer": "ipython3",
   "version": "3.10.6"
  },
  "orig_nbformat": 4,
  "vscode": {
   "interpreter": {
    "hash": "ebeb6e6923afe8f7249e0784fa3ee00f3af0c0d3bfc71667f0af69f9878e1416"
   }
  }
 },
 "nbformat": 4,
 "nbformat_minor": 2
}
